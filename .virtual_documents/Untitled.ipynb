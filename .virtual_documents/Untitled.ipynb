import re
import nltk
import shap
import spacy
import transformers
from nltk.corpus import stopwords
from nltk.tokenize import word_tokenize
from matplotlib import pyplot as plt
#local imports
from processing import process_data
from sentiment import sentiment_analysis, visualise_sentiments
from processing import process_data_to_list
from frequency_calculation import calculate_frequency_distribution


posts = process_data_to_list("data/posts", "content")
comms = process_data_to_list("data/comments", "body")
data = posts+comms





scores = sentiment_analysis(data)
