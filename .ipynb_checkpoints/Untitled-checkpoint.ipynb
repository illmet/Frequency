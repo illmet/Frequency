{
 "cells": [
  {
   "cell_type": "code",
   "execution_count": 1,
   "id": "ebdd6a09-1857-479c-8614-eb87d34d1b16",
   "metadata": {
    "scrolled": true
   },
   "outputs": [
    {
     "ename": "ModuleNotFoundError",
     "evalue": "No module named 'shap'",
     "output_type": "error",
     "traceback": [
      "\u001b[0;31m---------------------------------------------------------------------------\u001b[0m",
      "\u001b[0;31mModuleNotFoundError\u001b[0m                       Traceback (most recent call last)",
      "Cell \u001b[0;32mIn[1], line 3\u001b[0m\n\u001b[1;32m      1\u001b[0m \u001b[38;5;28;01mimport\u001b[39;00m \u001b[38;5;21;01mre\u001b[39;00m\n\u001b[1;32m      2\u001b[0m \u001b[38;5;28;01mimport\u001b[39;00m \u001b[38;5;21;01mnltk\u001b[39;00m\n\u001b[0;32m----> 3\u001b[0m \u001b[38;5;28;01mimport\u001b[39;00m \u001b[38;5;21;01mshap\u001b[39;00m\n\u001b[1;32m      4\u001b[0m \u001b[38;5;28;01mimport\u001b[39;00m \u001b[38;5;21;01mspacy\u001b[39;00m\n\u001b[1;32m      5\u001b[0m \u001b[38;5;28;01mfrom\u001b[39;00m \u001b[38;5;21;01mnltk\u001b[39;00m\u001b[38;5;21;01m.\u001b[39;00m\u001b[38;5;21;01mcorpus\u001b[39;00m \u001b[38;5;28;01mimport\u001b[39;00m stopwords\n",
      "\u001b[0;31mModuleNotFoundError\u001b[0m: No module named 'shap'"
     ]
    }
   ],
   "source": [
    "import re\n",
    "import nltk\n",
    "import shap\n",
    "import spacy\n",
    "import transformers\n",
    "from nltk.corpus import stopwords\n",
    "from nltk.tokenize import word_tokenize\n",
    "from matplotlib import pyplot as plt\n",
    "#local imports\n",
    "from processing import process_data\n",
    "from sentiment import sentiment_analysis, visualise_sentiments\n",
    "from processing import process_data_to_list\n",
    "from frequency_calculation import calculate_frequency_distribution"
   ]
  },
  {
   "cell_type": "code",
   "execution_count": null,
   "id": "94870970-07da-476b-aab8-9306fafc6126",
   "metadata": {},
   "outputs": [],
   "source": [
    "posts = process_data_to_list(\"data/posts\", \"content\")\n",
    "comms = process_data_to_list(\"data/comments\", \"body\")\n",
    "data = posts+comms"
   ]
  },
  {
   "cell_type": "markdown",
   "id": "0f91bbb1-f8dc-480a-9a30-69cabef89280",
   "metadata": {},
   "source": [
    "<h2> Baseline Sentiment analysis scores </h2>"
   ]
  },
  {
   "cell_type": "code",
   "execution_count": null,
   "id": "dfb047ca-da0e-4a4b-8b17-2a5e577ae949",
   "metadata": {},
   "outputs": [],
   "source": [
    "scores = sentiment_analysis(data)"
   ]
  }
 ],
 "metadata": {
  "kernelspec": {
   "display_name": "Python 3 (ipykernel)",
   "language": "python",
   "name": "python3"
  },
  "language_info": {
   "codemirror_mode": {
    "name": "ipython",
    "version": 3
   },
   "file_extension": ".py",
   "mimetype": "text/x-python",
   "name": "python",
   "nbconvert_exporter": "python",
   "pygments_lexer": "ipython3",
   "version": "3.9.19"
  }
 },
 "nbformat": 4,
 "nbformat_minor": 5
}
